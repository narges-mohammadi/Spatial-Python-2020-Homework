{
 "cells": [
  {
   "cell_type": "code",
   "execution_count": 1,
   "metadata": {},
   "outputs": [
    {
     "name": "stdout",
     "output_type": "stream",
     "text": [
      "['D:\\\\EAGLE_MasterCourses\\\\Second_Semester\\\\SpatialPython\\\\Session2 # get working directory (Windows: !echo D:\\\\EAGLE_MasterCourses\\\\Second_Semester\\\\SpatialPython\\\\Session2 )!pwd']\n"
     ]
    }
   ],
   "source": [
    "cdir = !echo %cd% # get working directory (Windows: !echo %cd% )!pwd\n",
    "print(cdir)"
   ]
  },
  {
   "cell_type": "code",
   "execution_count": 2,
   "metadata": {},
   "outputs": [
    {
     "data": {
      "text/plain": [
       "'D:\\\\EAGLE_MasterCourses\\\\Second_Semester\\\\SpatialPython\\\\Session2'"
      ]
     },
     "execution_count": 2,
     "metadata": {},
     "output_type": "execute_result"
    }
   ],
   "source": [
    "import os\n",
    "os.getcwd()"
   ]
  },
  {
   "cell_type": "code",
   "execution_count": 1,
   "metadata": {},
   "outputs": [
    {
     "name": "stdout",
     "output_type": "stream",
     "text": [
      "We or They\n",
      "We or They\n",
      "We or They\n"
     ]
    }
   ],
   "source": [
    "for i in range(3):\n",
    "    print(\"We or They\")"
   ]
  },
  {
   "cell_type": "code",
   "execution_count": 11,
   "metadata": {},
   "outputs": [
    {
     "name": "stdout",
     "output_type": "stream",
     "text": [
      "I?\n",
      "You?\n",
      "We?\n",
      "They?\n"
     ]
    }
   ],
   "source": [
    "pronoun = ['I', 'You', 'We', 'They' ]\n",
    "for word in pronoun:\n",
    "    print(word + '?')"
   ]
  },
  {
   "cell_type": "code",
   "execution_count": 2,
   "metadata": {},
   "outputs": [
    {
     "name": "stdout",
     "output_type": "stream",
     "text": [
      "Thanks\n"
     ]
    }
   ],
   "source": [
    "#var = 1\n",
    "#while var == 1 :  # This constructs an infinite loop\n",
    " #   num = int(input(\"Enter a number  :\"))\n",
    "  #  print(\"You entered: \", num)\n",
    "\n",
    "print('Thanks')"
   ]
  },
  {
   "cell_type": "code",
   "execution_count": 10,
   "metadata": {},
   "outputs": [
    {
     "name": "stdout",
     "output_type": "stream",
     "text": [
      "[[1 2 3 4 5 6]\n",
      " [1 2 3 4 5 6]]\n",
      "***************************\n",
      "[[[ 1  2  3  4]\n",
      "  [ 5  6  7  8]\n",
      "  [ 9 10 11 12]\n",
      "  [13 14 15 16]]\n",
      "\n",
      " [[ 1  2  3  4]\n",
      "  [ 5  6  7  8]\n",
      "  [ 9 10 11 12]\n",
      "  [13 14 15 16]]]\n",
      "***************************\n",
      "[[[ 0  1]\n",
      "  [ 2  3]\n",
      "  [ 4  5]]\n",
      "\n",
      " [[ 6  7]\n",
      "  [ 8  9]\n",
      "  [10 11]]\n",
      "\n",
      " [[12 13]\n",
      "  [14 15]\n",
      "  [16 17]]]\n"
     ]
    },
    {
     "data": {
      "text/plain": [
       "(3, 3, 2)"
      ]
     },
     "execution_count": 10,
     "metadata": {},
     "output_type": "execute_result"
    }
   ],
   "source": [
    "# create numpy array\n",
    "import numpy as np\n",
    "\n",
    "# 1d array\n",
    "#a = np.array([1, 2, 3, 4 , 5, 6])\n",
    "\n",
    "# 2d array\n",
    "b = np.array([[1, 2, 3,4 , 5, 6],[1, 2, 3,4 , 5, 6]])\n",
    "print(b)\n",
    "print(\"***************************\")\n",
    "# 3d array\n",
    "c = np.array([[[1,2,3,4], [5,6,7,8], [9,10,11,12],[13,14,15,16]],[[1,2,3,4], [5,6,7,8], [9,10,11,12],[13,14,15,16]]])\n",
    "print(c)\n",
    "print(\"***************************\")\n"
   ]
  },
  {
   "cell_type": "code",
   "execution_count": 12,
   "metadata": {},
   "outputs": [
    {
     "name": "stdout",
     "output_type": "stream",
     "text": [
      "[[[ 0  1]\n",
      "  [ 2  3]\n",
      "  [ 4  5]]\n",
      "\n",
      " [[ 6  7]\n",
      "  [ 8  9]\n",
      "  [10 11]]\n",
      "\n",
      " [[12 13]\n",
      "  [14 15]\n",
      "  [16 17]]]\n",
      "int32\n",
      "(3, 3, 2)\n"
     ]
    }
   ],
   "source": [
    "# create an array from a list\n",
    "a = np.arange(18).reshape(3, 3, 2)\n",
    "print(a)\n",
    "# find out the datatype\n",
    "a.dtype\n",
    "print(a.dtype)\n",
    "# find out the shape\n",
    "a.shape\n",
    "print(a.shape)\n"
   ]
  },
  {
   "cell_type": "code",
   "execution_count": 2,
   "metadata": {},
   "outputs": [
    {
     "name": "stdout",
     "output_type": "stream",
     "text": [
      "<class 'list'>\n",
      "9.24 ms ± 338 µs per loop (mean ± std. dev. of 7 runs, 100 loops each)\n",
      "80.3 µs ± 489 ns per loop (mean ± std. dev. of 7 runs, 10000 loops each)\n"
     ]
    }
   ],
   "source": [
    "# traditional python\n",
    "\n",
    "a = list(range(100000))\n",
    "print(type(a))\n",
    "%timeit [i + 2 for i in a]\n",
    "\n",
    "# Now with numpy\n",
    "\n",
    "import numpy as np\n",
    "\n",
    "a = np.array(a)        # push the data into a numpy array\n",
    "%timeit a + 2\n"
   ]
  },
  {
   "cell_type": "code",
   "execution_count": 4,
   "metadata": {},
   "outputs": [
    {
     "name": "stdout",
     "output_type": "stream",
     "text": [
      "[False  True False ...  True False False]\n",
      "100000\n"
     ]
    }
   ],
   "source": [
    "#This random.seed() function provides input for the pseudo-random number generator in Python\n",
    "np.random.seed(123)\n",
    "\n",
    "x = np.random.choice([False, True], size=100000)\n",
    "print(x)\n",
    "print(len(x))"
   ]
  },
  {
   "cell_type": "code",
   "execution_count": 7,
   "metadata": {},
   "outputs": [
    {
     "name": "stdout",
     "output_type": "stream",
     "text": [
      "25096\n",
      "16.5 ms ± 418 µs per loop (mean ± std. dev. of 7 runs, 100 loops each)\n"
     ]
    }
   ],
   "source": [
    "#this function groups(using zip() function) the one element from the head and one element from the tail of x \n",
    "#then it checks  each pair with \"and not\" and returns the counts where this condition where met\n",
    "#I think this function returns the number of pairs where the first element of each pair is True and the second element if False\n",
    "def transitions(x):\n",
    "    count = 0\n",
    "    for i, j in zip(x[:-1], x[1:]):\n",
    "        if j and not i:\n",
    "            count += 1\n",
    "    return count\n",
    "\n",
    "print(transitions(x))\n",
    "%timeit transitions(x)"
   ]
  },
  {
   "cell_type": "code",
   "execution_count": 8,
   "metadata": {},
   "outputs": [
    {
     "data": {
      "text/plain": [
       "25096"
      ]
     },
     "execution_count": 8,
     "metadata": {},
     "output_type": "execute_result"
    }
   ],
   "source": [
    "np.count_nonzero(x[:-1] < x[1:])\n",
    "#%timeit np.count_nonzero(x[:-1] < x[1:])"
   ]
  },
  {
   "cell_type": "code",
   "execution_count": 12,
   "metadata": {},
   "outputs": [
    {
     "name": "stdout",
     "output_type": "stream",
     "text": [
      "[False  True False ...  True  True False]\n"
     ]
    },
    {
     "data": {
      "text/plain": [
       "99999"
      ]
     },
     "execution_count": 12,
     "metadata": {},
     "output_type": "execute_result"
    }
   ],
   "source": [
    "print(x[:-1])\n",
    "len(x[:-1])"
   ]
  },
  {
   "cell_type": "code",
   "execution_count": 11,
   "metadata": {},
   "outputs": [
    {
     "name": "stdout",
     "output_type": "stream",
     "text": [
      "[ True False False ...  True False False]\n"
     ]
    },
    {
     "data": {
      "text/plain": [
       "99999"
      ]
     },
     "execution_count": 11,
     "metadata": {},
     "output_type": "execute_result"
    }
   ],
   "source": [
    "print(x[1:])\n",
    "len(x[1:])"
   ]
  },
  {
   "cell_type": "code",
   "execution_count": 17,
   "metadata": {},
   "outputs": [
    {
     "name": "stdout",
     "output_type": "stream",
     "text": [
      "[1 2 3 4 5 6]\n",
      "*********************\n",
      "[[1 2 3 4 5 6]\n",
      " [1 2 3 4 5 6]]\n",
      "*********************\n",
      "[[[ 1  2  3  4]\n",
      "  [ 5  6  7  8]\n",
      "  [ 9 10 11 12]\n",
      "  [13 14 15 16]]\n",
      "\n",
      " [[ 1  2  3  4]\n",
      "  [ 5  6  7  8]\n",
      "  [ 9 10 11 12]\n",
      "  [13 14 15 16]]]\n"
     ]
    }
   ],
   "source": [
    "# create numpy array\n",
    "import numpy as np\n",
    "\n",
    "# 1d array\n",
    "a = np.array([1, 2, 3, 4 , 5, 6])\n",
    "print(a)\n",
    "print(\"*********************\")\n",
    "# 2d array\n",
    "b = np.array([[1, 2, 3,4 , 5, 6],[1, 2, 3,4 , 5, 6]])\n",
    "print(b)\n",
    "print(\"*********************\")\n",
    "\n",
    "# 3d array\n",
    "c = np.array([[[1,2,3,4], [5,6,7,8], [9,10,11,12],[13,14,15,16]],[[1,2,3,4], [5,6,7,8], [9,10,11,12],[13,14,15,16]]])\n",
    "print(c)"
   ]
  },
  {
   "cell_type": "code",
   "execution_count": 21,
   "metadata": {},
   "outputs": [
    {
     "name": "stdout",
     "output_type": "stream",
     "text": [
      "[[0. 0.]\n",
      " [0. 0.]]\n",
      "[0 0]\n",
      "[[0 0]\n",
      " [0 0]]\n",
      "*********************\n",
      "[[1. 1.]]\n",
      "*********************\n",
      "[[7 7]\n",
      " [7 7]]\n",
      "*********************\n",
      "[[1. 0.]\n",
      " [0. 1.]]\n",
      "*********************\n",
      "[[0.42261562 0.24775193]\n",
      " [0.25794152 0.45016467]]\n",
      "*********************\n",
      "[ 1.  8. 15.]\n",
      "*********************\n",
      "[3 4 5 6 7 8 9]\n"
     ]
    }
   ],
   "source": [
    "import numpy as np\n",
    "\n",
    "a = np.zeros((2,2))   # Create an array of all zeros\n",
    "print(a)                      # Prints \"[[ 0.  0.]\n",
    "                      #          [ 0.  0.]]\"\n",
    "h=np.zeros(2,dtype = int)# In here the data type of the zeros are int(0) ,whereas in the above example the datatype is float(.0)\n",
    "print(h)\n",
    "\n",
    "i = np.zeros((2,2),dtype=int)   # Create an array of all zeros with type of \"int\"\n",
    "print(i)  \n",
    "print(\"*********************\")\n",
    "b = np.ones((1,2))    # Create an array of all ones\n",
    "print(b)                     # Prints \"[[ 1.  1.]]\"\n",
    "print(\"*********************\")\n",
    "c = np.full((2,2), 7)  # Create a constant array\n",
    "print(c)                      # Prints \"[[ 7.  7.]\n",
    "                       #          [ 7.  7.]]\"\n",
    "    #np.full() function essentially just creates a Numpy array that is “full” of the same value.\n",
    "print(\"*********************\")\n",
    "d = np.eye(2)         # Create a 2x2 identity matrix\n",
    "print(d)                     # Prints \"[[ 1.  0.]\n",
    "                      #          [ 0.  1.]]\"\n",
    "print(\"*********************\")\n",
    "e = np.random.random((2,2))  # Create an array filled with random values\n",
    "print(e)                            # Might print \"[[ 0.91940167  0.08143941]\n",
    "                             #               [ 0.68744134  0.87236687]]\"\n",
    "print(\"*********************\")    \n",
    "f = np.linspace(1, 15, 3)   # The linspace() function returns numbers evenly spaced over a specified intervals.\n",
    "print(f)                           # Say we want 3 evenly spaced points from 1 to 15, we can easily use this.\n",
    "                            # linspace() takes the third argument as the number of datapoints to be created\n",
    "print(\"*********************\")\n",
    "g= np.arange(3,10)           # Lists the natural numbers from 3 to 9, as the number in the second position is excluded\n",
    "print(g)"
   ]
  },
  {
   "cell_type": "code",
   "execution_count": 23,
   "metadata": {},
   "outputs": [
    {
     "name": "stdout",
     "output_type": "stream",
     "text": [
      "int32\n",
      "float64\n",
      "int8\n"
     ]
    }
   ],
   "source": [
    "import numpy as np\n",
    "\n",
    "x = np.array([1, 2])   # Let numpy choose the datatype\n",
    "print(x.dtype)\n",
    "\n",
    "x = np.array([1.0, 2.0])   # Let numpy choose the datatype\n",
    "print(x.dtype )\n",
    "\n",
    "x = np.array([1, 2], dtype=\"int8\")  # Select the datatype you want\n",
    "print(x.dtype  )"
   ]
  },
  {
   "cell_type": "code",
   "execution_count": 24,
   "metadata": {},
   "outputs": [
    {
     "name": "stdout",
     "output_type": "stream",
     "text": [
      "[1 2 3 4 5 6]\n",
      "1\n",
      "2\n",
      "3\n",
      "[  2 100  -4   4   5   6]\n"
     ]
    }
   ],
   "source": [
    "a = np.array([1, 2, 3, 4 , 5, 6])\n",
    "print(a)\n",
    "\n",
    "# access  array elements\n",
    "print(a[0] )\n",
    "print(a[1] )\n",
    "print(a[2] )\n",
    "\n",
    "\n",
    "# access and change array elements\n",
    "a[0] = 2\n",
    "a[1] = 100\n",
    "a[2] = -4\n",
    "\n",
    "a[0]\n",
    "a[1]\n",
    "a[2]\n",
    "print(a)"
   ]
  },
  {
   "cell_type": "code",
   "execution_count": 26,
   "metadata": {},
   "outputs": [
    {
     "name": "stdout",
     "output_type": "stream",
     "text": [
      "2\n",
      "12\n",
      "6\n",
      "30\n"
     ]
    }
   ],
   "source": [
    "# indexing 2d arrays\n",
    "import numpy as np\n",
    "\n",
    "a = np.array([[1,2,3,4], [5,6,7,8], [9,10,11,12],[13,14,15,16]])\n",
    "a\n",
    "\n",
    "print(a[0, 1] )\n",
    "print(a[2, 3])\n",
    "\n",
    "\n",
    "# indexing 3d arrays\n",
    "b = np.array([[[1,2,3,4], [5,6,7,8], [9,10,11,12],[13,14,15,16]],[[17,18,19,20], [21,22,23,24], [25,26,27,28],[30,31,32,33]]])\n",
    "b\n",
    "print(b[0, 1, 1])\n",
    "print(b[1, 3, 0])\n"
   ]
  },
  {
   "cell_type": "code",
   "execution_count": 29,
   "metadata": {},
   "outputs": [
    {
     "name": "stdout",
     "output_type": "stream",
     "text": [
      "[1 4 5]\n"
     ]
    }
   ],
   "source": [
    "#Integer array indexing\n",
    "import numpy as np\n",
    "\n",
    "a = np.array([[1,2], [3, 4], [5, 6]])  \n",
    "a\n",
    "#?????? An example of integer array indexing.\n",
    "#!!!!!!!!!?????I dont get this part?????\n",
    "\n",
    "print(a[[0, 1, 2], [0, 1, 0]]  )"
   ]
  },
  {
   "cell_type": "code",
   "execution_count": 31,
   "metadata": {},
   "outputs": [
    {
     "name": "stdout",
     "output_type": "stream",
     "text": [
      "[[2]\n",
      " [4]\n",
      " [6]]\n",
      "[[[ 6  7  8]\n",
      "  [10 11 12]]\n",
      "\n",
      " [[22 23 24]\n",
      "  [26 27 28]]]\n"
     ]
    }
   ],
   "source": [
    "#????????I have problem understanding slicing too\n",
    "#???????slicing\n",
    "\n",
    "a\n",
    "aa = a[:3, 1:3]\n",
    "print(aa)\n",
    "\n",
    "b\n",
    "bb = b[:3, 1:3, 1:]\n",
    "print(bb)"
   ]
  },
  {
   "cell_type": "code",
   "execution_count": 1,
   "metadata": {},
   "outputs": [
    {
     "data": {
      "text/plain": [
       "array([[-1.06705283e+00,  9.24306355e+00],\n",
       "       [ 1.08654318e+00, -6.94815805e+00],\n",
       "       [-2.30970265e+00,  5.84969440e+00],\n",
       "       [-1.59728965e+00,  8.45369045e+00],\n",
       "       [-5.79816711e+00, -3.78405528e+00],\n",
       "       [-2.29833776e+00, -4.66005371e+00],\n",
       "       [-1.68210799e+00,  1.12843423e+01],\n",
       "       [-7.38296450e-01, -5.20135260e+00],\n",
       "       [-1.92048345e-01, -6.45318764e+00],\n",
       "       [-6.37920287e+00, -2.17672355e+00],\n",
       "       [-5.12054803e+00, -2.91449176e+00],\n",
       "       [-4.22297649e+00,  9.04719945e+00],\n",
       "       [-2.67815731e+00, -2.32828819e+00],\n",
       "       [-3.02994109e+00,  1.86959382e+00],\n",
       "       [-5.73938121e+00, -7.25648845e-01],\n",
       "       [-1.99427571e+00,  4.28616868e+00],\n",
       "       [-2.89522086e+00,  1.10222354e+01],\n",
       "       [-1.11286937e+00,  1.03086380e+01],\n",
       "       [-5.19987051e+00, -1.59879364e+00],\n",
       "       [-4.75916597e+00, -1.97047767e+00],\n",
       "       [-6.76865308e+00, -3.56907573e+00],\n",
       "       [-2.65715781e+00,  3.33763714e+00],\n",
       "       [-4.61722463e+00,  1.06373187e+01],\n",
       "       [-1.43729337e+00,  1.12137736e+01],\n",
       "       [-1.98068787e+00,  9.73142838e+00],\n",
       "       [-1.47838268e+00,  4.02156675e+00],\n",
       "       [-3.74580344e+00,  9.15545625e+00],\n",
       "       [-5.51090509e-01, -2.19802594e+00],\n",
       "       [-2.68015629e+00,  5.58489786e+00],\n",
       "       [-1.18697121e-01,  1.04950260e+01],\n",
       "       [ 7.08946126e-02,  1.27161487e+01],\n",
       "       [-6.03097685e+00, -1.01668649e+00],\n",
       "       [-6.43543481e+00,  1.19165025e-01],\n",
       "       [-7.91271326e-01, -5.63231066e+00],\n",
       "       [ 9.02189228e-02, -4.24988128e+00],\n",
       "       [-3.72960397e+00, -2.40552410e+00],\n",
       "       [-5.47201497e+00, -1.29098281e+00],\n",
       "       [-4.50400179e+00, -1.29552557e+00],\n",
       "       [-1.59604970e+00,  7.08952891e+00],\n",
       "       [-2.45285170e+00,  6.35814471e+00],\n",
       "       [-1.02481236e+00,  1.34548122e+01],\n",
       "       [-7.16917808e+00, -3.68305685e+00],\n",
       "       [-2.09444877e+00,  6.60308885e+00],\n",
       "       [-3.08549983e+00,  6.22161479e+00],\n",
       "       [-6.82140576e-01, -4.83269360e+00],\n",
       "       [ 1.64436813e+00, -3.29688399e+00],\n",
       "       [-1.81165386e+00,  9.57286673e+00],\n",
       "       [-1.21769584e-01,  6.51275284e+00],\n",
       "       [-1.65143884e+00,  6.38316168e+00],\n",
       "       [-4.18721798e+00,  8.93800061e+00],\n",
       "       [-1.10703455e+00, -4.83713152e+00],\n",
       "       [-7.62627421e+00, -4.60727232e+00],\n",
       "       [-3.06568887e-01,  5.25844092e+00],\n",
       "       [-1.23581275e+00,  8.35805290e+00],\n",
       "       [-1.85807535e-01,  2.57718893e+00],\n",
       "       [ 7.28797198e-01,  6.06528632e+00],\n",
       "       [-1.70400879e+00, -2.88008464e+00],\n",
       "       [-5.02706384e+00,  7.61298431e-01],\n",
       "       [-6.22443225e+00, -6.57162467e-01],\n",
       "       [-2.90807981e+00,  5.27669491e+00],\n",
       "       [-1.37711368e+00, -5.50047455e+00],\n",
       "       [-5.57986277e-01, -2.70088621e+00],\n",
       "       [-5.68833947e+00,  7.94601173e+00],\n",
       "       [-2.77413056e+00, -5.78872960e+00],\n",
       "       [-1.53159637e+00, -5.42990953e+00],\n",
       "       [-3.22848472e+00,  9.44642918e+00],\n",
       "       [ 9.86777496e-01, -7.30690762e+00],\n",
       "       [-4.42661936e+00,  3.35071015e+00],\n",
       "       [-3.17162516e+00,  1.10347610e+01],\n",
       "       [-4.74516474e+00,  7.89837755e+00],\n",
       "       [ 1.02471465e+00, -4.64795418e+00],\n",
       "       [-6.13566432e+00, -2.93094035e+00],\n",
       "       [-3.42672033e+00,  7.64284207e+00],\n",
       "       [ 1.27831270e+00, -6.29519484e+00],\n",
       "       [-3.16483095e+00,  6.35636403e+00],\n",
       "       [ 1.13910574e-02,  5.46235123e+00],\n",
       "       [-5.41232378e+00, -2.68666494e+00],\n",
       "       [ 4.61164125e-01,  4.69143186e+00],\n",
       "       [-2.41469662e+00,  4.66269862e+00],\n",
       "       [-3.77686363e-01, -5.75177620e+00],\n",
       "       [-6.10691421e+00, -5.98494706e+00],\n",
       "       [-4.87535312e-01,  6.36669314e+00],\n",
       "       [-5.73193316e+00, -1.81425052e+00],\n",
       "       [-4.88797474e+00, -2.96226761e+00],\n",
       "       [-5.91551686e+00, -1.39463278e+00],\n",
       "       [-7.44500073e+00, -1.82470952e+00],\n",
       "       [-3.39008216e+00,  1.09563447e+01],\n",
       "       [ 2.47622860e-01, -5.03543616e+00],\n",
       "       [-3.10260432e+00,  1.09469609e+01],\n",
       "       [-5.15417920e+00, -4.12796457e+00],\n",
       "       [-4.28633194e-01, -4.24947701e+00],\n",
       "       [-4.27501504e+00,  1.08359469e+01],\n",
       "       [ 4.55976021e-02, -4.59883918e+00],\n",
       "       [-5.04804825e+00,  4.27765336e+00],\n",
       "       [-2.40612947e+00,  5.07809235e+00],\n",
       "       [-2.27451380e+00, -1.54186053e+00],\n",
       "       [-1.57744641e-01, -1.15341625e+01],\n",
       "       [-2.19532828e+00,  4.52009408e+00],\n",
       "       [-5.01209756e-01, -3.66534438e+00],\n",
       "       [-2.55093474e+00,  5.07808929e+00],\n",
       "       [-7.89434801e+00, -3.17030594e+00],\n",
       "       [-1.53349447e+00, -5.87137205e+00],\n",
       "       [-3.69177238e+00,  2.87620370e+00],\n",
       "       [-1.31024459e+00,  1.19798893e+01],\n",
       "       [-1.49167744e+00,  7.45001320e+00],\n",
       "       [ 2.24563558e+00, -6.37052906e+00],\n",
       "       [-2.93581723e+00,  4.37099430e+00],\n",
       "       [-2.45885784e+00, -3.47646132e+00],\n",
       "       [-9.37207745e+00, -2.04265047e+00],\n",
       "       [-1.85324174e+00,  1.15343543e+01],\n",
       "       [-4.55544644e-02, -5.77956461e+00],\n",
       "       [-4.81350458e+00, -4.29442383e+00],\n",
       "       [-2.83977728e+00,  1.05836834e+01],\n",
       "       [-3.25189078e+00,  8.58382453e+00],\n",
       "       [-5.78104717e+00, -3.22180679e+00],\n",
       "       [-1.35072701e+00,  4.38388826e+00],\n",
       "       [-2.54760385e+00,  1.23266492e+01],\n",
       "       [-1.83963385e+00,  1.17304073e+01],\n",
       "       [-3.56940146e+00,  3.97719844e+00],\n",
       "       [ 5.19455346e+00, -3.85790517e+00],\n",
       "       [ 1.26866610e+00,  8.69129038e+00],\n",
       "       [-3.63664996e+00,  7.23811254e+00],\n",
       "       [-1.55079863e+00,  8.16118375e+00],\n",
       "       [-1.75136566e+00,  1.01798622e+01],\n",
       "       [ 4.22044090e+00, -7.82455952e+00],\n",
       "       [-1.01845204e+00,  1.08561916e+01],\n",
       "       [-3.09538208e+00,  9.04263837e+00],\n",
       "       [-2.75853245e+00,  5.71712591e+00],\n",
       "       [-1.69955192e+00,  7.60084115e+00],\n",
       "       [ 1.00681205e+00, -5.97364221e+00],\n",
       "       [-3.63618643e+00, -4.01910949e+00],\n",
       "       [ 1.05766953e+00, -2.84354513e+00],\n",
       "       [-5.21005358e-01, -5.36288806e+00],\n",
       "       [ 4.74333018e-01,  2.91649791e+00],\n",
       "       [-1.16095485e+00,  9.30443737e+00],\n",
       "       [ 7.72592657e-01,  3.34757221e+00],\n",
       "       [ 1.15283270e-01, -4.98158692e+00],\n",
       "       [-6.17063348e-01,  1.04101088e+01],\n",
       "       [-2.76847604e+00,  8.52320320e+00],\n",
       "       [-5.25173430e+00, -2.08429857e+00],\n",
       "       [-3.85525653e+00,  9.54219399e+00],\n",
       "       [-8.01851943e-01,  5.95676894e+00],\n",
       "       [-2.36271016e+00,  6.81776964e+00],\n",
       "       [-1.99764975e+00, -3.85128758e+00],\n",
       "       [-6.65130512e+00, -3.92501387e+00],\n",
       "       [-5.57724115e+00,  1.14034957e+01],\n",
       "       [ 1.19709771e+00, -5.35592862e+00],\n",
       "       [-3.25011945e+00,  5.37703143e+00],\n",
       "       [ 1.18033537e+00, -7.97895365e+00],\n",
       "       [-6.91252565e+00, -4.45298216e+00],\n",
       "       [-1.76815267e+00,  9.19196787e+00],\n",
       "       [-6.65058496e+00, -2.11819191e+00],\n",
       "       [-3.70764352e+00,  6.74162691e+00],\n",
       "       [-3.71255665e-01, -4.99321884e+00],\n",
       "       [ 1.12056494e-01, -6.58921181e+00],\n",
       "       [-2.33425004e+00,  7.05562607e+00],\n",
       "       [-6.96784964e-01,  1.00164565e+01],\n",
       "       [-7.67542214e-01, -5.69548201e+00],\n",
       "       [-6.88656858e-01, -9.55180953e+00],\n",
       "       [ 3.19734410e+00, -3.69780369e+00],\n",
       "       [-1.66854762e+00,  4.66869475e+00],\n",
       "       [-3.40729232e-01,  5.72252744e+00],\n",
       "       [-7.63340475e-01, -2.76069256e+00],\n",
       "       [-2.15963524e+00, -7.56230415e+00],\n",
       "       [-5.10916044e+00, -4.59492642e+00],\n",
       "       [-4.57024715e+00, -7.15787278e-01],\n",
       "       [-4.87469044e+00, -2.18916044e+00],\n",
       "       [-1.42220382e+00,  5.20840822e+00],\n",
       "       [ 1.86144971e+00, -9.23586332e+00],\n",
       "       [-4.26446596e-01, -4.87764872e+00],\n",
       "       [-1.35671783e+00, -3.72590953e+00],\n",
       "       [ 9.41731341e-02, -4.05882797e+00],\n",
       "       [-6.95635379e+00, -8.81553313e-01],\n",
       "       [ 1.08172044e+00,  5.81661034e+00],\n",
       "       [ 3.14164337e-02, -5.38350852e+00],\n",
       "       [-2.85096028e+00,  7.51512826e+00],\n",
       "       [-4.36021918e+00, -2.94957772e+00],\n",
       "       [-3.47593712e-01, -4.33384716e+00],\n",
       "       [-2.70720258e+00,  1.05857295e+01],\n",
       "       [-3.77539609e+00,  4.13414806e+00],\n",
       "       [ 1.26381204e+00, -7.84824077e+00],\n",
       "       [-1.44884409e+00,  3.75963327e+00],\n",
       "       [-2.25521451e+00,  5.57096900e+00],\n",
       "       [-3.09117088e+00,  9.37957142e+00],\n",
       "       [-6.36790963e+00, -5.30288810e-02],\n",
       "       [-6.11503859e-01, -3.24108804e+00],\n",
       "       [-6.24195183e+00, -2.19627952e+00],\n",
       "       [-5.34255894e+00,  1.28888667e+01],\n",
       "       [ 1.14391114e+00,  4.35267793e+00],\n",
       "       [ 2.32669251e+00, -7.52917540e+00],\n",
       "       [-2.96275801e+00,  2.59217754e+00],\n",
       "       [-3.02730359e+00,  3.52590749e+00],\n",
       "       [-3.49785697e+00, -8.75045274e-01],\n",
       "       [-5.23835667e-01,  7.48498444e+00],\n",
       "       [ 1.09766760e+00, -4.85679456e+00],\n",
       "       [-1.10000365e+00,  1.10130763e+01],\n",
       "       [-3.98648663e+00, -1.98177808e+00],\n",
       "       [-3.29604652e+00,  6.38490461e+00],\n",
       "       [-3.75526942e+00, -1.56756272e+00],\n",
       "       [-7.10483937e-01,  1.18869578e+01]])"
      ]
     },
     "execution_count": 1,
     "metadata": {},
     "output_type": "execute_result"
    }
   ],
   "source": [
    "#scikit-learn package for machine learning \n",
    "#Seaborn is a library for making statistical graphics in Python. \n",
    "#Seaborn is built on top of matplotlib and closely integrated with pandas data structures. \n",
    "\n",
    "from sklearn.datasets import make_blobs\n",
    "import seaborn as sn\n",
    "import matplotlib.pyplot as plt\n",
    "\n",
    "X = make_blobs(n_samples=200, n_features=2, centers=4, cluster_std=1.6, random_state=50)\n",
    "X=X[0]\n",
    "X"
   ]
  },
  {
   "cell_type": "code",
   "execution_count": 2,
   "metadata": {},
   "outputs": [
    {
     "data": {
      "text/plain": [
       "<matplotlib.axes._subplots.AxesSubplot at 0x20df13bef10>"
      ]
     },
     "execution_count": 2,
     "metadata": {},
     "output_type": "execute_result"
    },
    {
     "data": {
      "image/png": "[encoded data removed]",
      "text/plain": [
       "<Figure size 432x288 with 1 Axes>"
      ]
     },
     "metadata": {
      "needs_background": "light"
     },
     "output_type": "display_data"
    }
   ],
   "source": [
    "sn.scatterplot(X[:,0],X[:,1])"
   ]
  },
  {
   "cell_type": "code",
   "execution_count": 5,
   "metadata": {},
   "outputs": [],
   "source": [
    "#First write a function that initializes k centroids by randomly selecting them from the data points\n",
    "import numpy as np\n",
    "def initialize_centroids(points, k):\n",
    "    centroids = points.copy()\n",
    "    np.random.shuffle(centroids)\n",
    "    return centroids[:k]"
   ]
  },
  {
   "cell_type": "code",
   "execution_count": 6,
   "metadata": {},
   "outputs": [
    {
     "data": {
      "text/plain": [
       "array([[-1.44884409,  3.75963327],\n",
       "       [ 0.09417313, -4.05882797],\n",
       "       [-3.70764352,  6.74162691],\n",
       "       [ 1.08172044,  5.81661034],\n",
       "       [-0.76334047, -2.76069256]])"
      ]
     },
     "execution_count": 6,
     "metadata": {},
     "output_type": "execute_result"
    }
   ],
   "source": [
    "centroids = initialize_centroids(X, 5)\n",
    "centroids "
   ]
  },
  {
   "cell_type": "code",
   "execution_count": 8,
   "metadata": {},
   "outputs": [
    {
     "name": "stderr",
     "output_type": "stream",
     "text": [
      "C:\\Users\\NOVINPENDAR\\Anaconda2\\envs\\eagles-python\\lib\\site-packages\\seaborn\\axisgrid.py:1665: UserWarning: The `size` parameter has been renamed to `height`; please update your code.\n",
      "  warnings.warn(msg, UserWarning)\n",
      "C:\\Users\\NOVINPENDAR\\Anaconda2\\envs\\eagles-python\\lib\\site-packages\\seaborn\\axisgrid.py:1734: UserWarning: Tight layout not applied. tight_layout cannot make axes width small enough to accommodate all axes decorations\n",
      "  f.tight_layout()\n"
     ]
    },
    {
     "data": {
      "text/plain": [
       "<matplotlib.collections.PathCollection at 0x20df644da30>"
      ]
     },
     "execution_count": 8,
     "metadata": {},
     "output_type": "execute_result"
    },
    {
     "data": {
      "image/png": "[encoded data removed]",
      "text/plain": [
       "<Figure size 432x432 with 3 Axes>"
      ]
     },
     "metadata": {
      "needs_background": "light"
     },
     "output_type": "display_data"
    }
   ],
   "source": [
    "import matplotlib.pyplot as plt\n",
    " \n",
    "grid = sn.JointGrid(X[:,0],X[:,1], space=0, size=6, ratio=50)\n",
    "grid.plot_joint(plt.scatter, color=\"g\")\n",
    "plt.scatter(centroids[:,0], centroids[:,1], color='r')"
   ]
  },
  {
   "cell_type": "code",
   "execution_count": 9,
   "metadata": {},
   "outputs": [
    {
     "data": {
      "text/plain": [
       "array([2, 1, 2, 2, 4, 4, 2, 1, 1, 4, 4, 2, 4, 0, 4, 0, 2, 2, 4, 4, 4, 0,\n",
       "       2, 2, 2, 0, 2, 4, 2, 3, 3, 4, 0, 1, 1, 4, 4, 4, 2, 2, 2, 4, 2, 2,\n",
       "       1, 1, 2, 3, 2, 2, 1, 4, 3, 2, 0, 3, 4, 0, 4, 2, 1, 4, 2, 1, 1, 2,\n",
       "       1, 0, 2, 2, 1, 4, 2, 1, 2, 3, 4, 3, 0, 1, 4, 3, 4, 4, 4, 4, 2, 1,\n",
       "       2, 4, 1, 2, 1, 2, 0, 4, 1, 0, 1, 0, 4, 1, 0, 2, 2, 1, 0, 4, 4, 2,\n",
       "       1, 4, 2, 2, 4, 0, 2, 2, 0, 1, 3, 2, 2, 2, 1, 2, 2, 2, 2, 1, 4, 1,\n",
       "       1, 0, 2, 0, 1, 2, 2, 4, 2, 3, 2, 4, 4, 2, 1, 2, 1, 4, 2, 4, 2, 1,\n",
       "       1, 2, 2, 1, 1, 1, 0, 3, 4, 1, 4, 4, 4, 0, 1, 1, 4, 1, 4, 3, 1, 2,\n",
       "       4, 1, 2, 0, 1, 0, 2, 2, 0, 4, 4, 2, 3, 1, 0, 0, 4, 3, 1, 2, 4, 2,\n",
       "       4, 2], dtype=int64)"
      ]
     },
     "execution_count": 9,
     "metadata": {},
     "output_type": "execute_result"
    }
   ],
   "source": [
    "#define a function that defines a function that returns the closest centroid for each point \n",
    "def closest_centroid(X, centroids):\n",
    "    distances = np.sqrt(((X - centroids[:, np.newaxis])**2).sum(axis=2))\n",
    "    return np.argmin(distances, axis=0)\n",
    "\n",
    "closest = closest_centroid(X, centroids)\n",
    "closest"
   ]
  },
  {
   "cell_type": "code",
   "execution_count": null,
   "metadata": {},
   "outputs": [],
   "source": [
    "#Excercise 6¶\n",
    "#Create a null vector of size 10\n",
    "#Create a random sorted vector of size 10\n",
    "#Create a 3x3 matrix with values ranging from 0 to 8\n",
    "#Create a 5x5 array with 2 on the border and 0 inside\n",
    "#Create a 8x8 matrix and fill it with a checkerboard pattern\n",
    "#Create a random array and subtract the mean of each row of a matrix\n",
    "#Additional:\n",
    "\n",
    "#Consider a random 10x2 matrix representing cartesian coordinates, convert them to polar coordinate\n",
    "#Consider a random vector with shape (100,2) representing coordinates, find point by point distances"
   ]
  },
  {
   "cell_type": "code",
   "execution_count": 13,
   "metadata": {},
   "outputs": [
    {
     "name": "stdout",
     "output_type": "stream",
     "text": [
      "[0 0 0 0 0 0 0 0 0 0]\n",
      "[[0 1 2]\n",
      " [3 4 5]\n",
      " [6 7 8]]\n",
      "<class 'numpy.ndarray'>\n",
      "(3, 3)\n",
      "[[0 0 0 0 0]\n",
      " [0 0 0 0 0]\n",
      " [0 0 0 0 0]\n",
      " [0 0 0 0 0]\n",
      " [0 0 0 0 0]]\n",
      "[[2 2 2 2 2]\n",
      " [2 0 0 0 2]\n",
      " [2 0 0 0 2]\n",
      " [2 0 0 0 2]\n",
      " [2 2 2 2 2]]\n",
      "[[0 1]\n",
      " [0 1]\n",
      " [0 1]\n",
      " [0 1]]\n",
      "[[1 0]\n",
      " [1 0]\n",
      " [1 0]\n",
      " [1 0]]\n",
      "[[[0 1 0 1 0 1 0 1]\n",
      "  [1 0 1 0 1 0 1 0]]]\n",
      "****************************\n",
      "[[[0 1 0 1 0 1 0 1]\n",
      "  [1 0 1 0 1 0 1 0]\n",
      "  [0 1 0 1 0 1 0 1]\n",
      "  [1 0 1 0 1 0 1 0]\n",
      "  [0 1 0 1 0 1 0 1]\n",
      "  [1 0 1 0 1 0 1 0]\n",
      "  [0 1 0 1 0 1 0 1]\n",
      "  [1 0 1 0 1 0 1 0]]]\n",
      "[[[0 1 2]\n",
      "  [3 4 5]\n",
      "  [6 7 8]]]\n",
      "[[1. 4. 7.]]\n",
      "&&&&&&&&&&&&&&&&&&&&&&&&&&&&&&&&\n",
      "[[0.13418496 0.56146226]\n",
      " [0.4820002  0.67966876]\n",
      " [0.73870729 0.16514066]\n",
      " [0.10069371 0.92758757]\n",
      " [0.22027153 0.10020807]\n",
      " [0.79305629 0.10742643]\n",
      " [0.45574091 0.10711613]\n",
      " [0.53257258 0.44607481]\n",
      " [0.17972022 0.98504053]\n",
      " [0.66322649 0.63012838]]\n",
      "[[0.57727418]\n",
      " [0.83323095]\n",
      " [0.75694115]\n",
      " [0.93303694]\n",
      " [0.24199423]\n",
      " [0.80029914]\n",
      " [0.46815984]\n",
      " [0.6947059 ]\n",
      " [1.00130125]\n",
      " [0.91483942]]\n",
      "[[76.55889041]\n",
      " [54.65690518]\n",
      " [12.60147836]\n",
      " [83.80455119]\n",
      " [24.46220013]\n",
      " [ 7.71426108]\n",
      " [13.22657854]\n",
      " [39.94903676]\n",
      " [79.66013937]\n",
      " [43.53406972]]\n",
      "*******************************\n",
      "[[[ 0.57727418  0.83323095]\n",
      "  [ 0.75694115  0.93303694]\n",
      "  [ 0.24199423  0.80029914]\n",
      "  [ 0.46815984  0.6947059 ]\n",
      "  [ 1.00130125  0.91483942]\n",
      "  [76.55889041 54.65690518]\n",
      "  [12.60147836 83.80455119]\n",
      "  [24.46220013  7.71426108]\n",
      "  [13.22657854 39.94903676]\n",
      "  [79.66013937 43.53406972]]]\n",
      "*******************************\n",
      "[[0.         0.3667693  0.64349123 ... 0.72527132 0.81325843 0.29448437]\n",
      " [0.3667693  0.         0.67327104 ... 0.47960811 0.48977246 0.36565129]\n",
      " [0.64349123 0.67327104 0.         ... 0.50049418 1.11797473 0.89951985]\n",
      " ...\n",
      " [0.72527132 0.47960811 0.50049418 ... 0.         0.74076703 0.83790878]\n",
      " [0.81325843 0.48977246 1.11797473 ... 0.74076703 0.         0.63917919]\n",
      " [0.29448437 0.36565129 0.89951985 ... 0.83790878 0.63917919 0.        ]]\n"
     ]
    }
   ],
   "source": [
    "#Q1:\n",
    "import numpy as np\n",
    "# create a null vector of size 10\n",
    "n=np.zeros(10,dtype=int)\n",
    "print(n)\n",
    "type(n)\n",
    "\n",
    "#Q2:\n",
    "np.random.seed(65)\n",
    "x = np.random.choice([\"Day\",\"Night\",\"Midnight\"], size=10)\n",
    "x\n",
    "\n",
    "#Q3:\n",
    "# 2d array\n",
    "b = np.array([[0, 1, 2],[3,4,5],[6, 7, 8]])\n",
    "print(b)\n",
    "print(type(b))\n",
    "print(np.shape(b))\n",
    "\n",
    "#Q4:\n",
    "# two by two matrix of zeros\n",
    "zero_three_by_three=np.zeros(shape=(5,5),dtype=int)\n",
    "print(zero_three_by_three)\n",
    "#\n",
    "two_vector = np.full((1,5),2)  # Create a constant array\n",
    "two_vector_col=np.array([2,2,2])\n",
    "\n",
    "zero_three_by_three[0,:]=two_vector\n",
    "zero_three_by_three[4,:]=two_vector\n",
    "zero_three_by_three[1:4,0]=two_vector_col\n",
    "zero_three_by_three[1:4,4]=two_vector_col\n",
    "print(zero_three_by_three)\n",
    "\n",
    "#Q5:\n",
    "\n",
    "r = np.arange(0,2)\n",
    "#print(r)\n",
    "t = np.flip(r)\n",
    "#print(t)\n",
    "w_type_one=np.array([r,r,r,r])\n",
    "print(w_type_one)\n",
    "\n",
    "t = np.flip(r)\n",
    "w_type_two=np.array([t,t,t,t])\n",
    "print(w_type_two)\n",
    "\n",
    "\n",
    "w_sample=np.array([w_type_one,w_type_two]).reshape(1,2,8)\n",
    "print(w_sample)\n",
    "np.shape(w_sample)\n",
    "print(\"****************************\")\n",
    "w_sample_row=np.array([w_sample,w_sample,w_sample,w_sample]).reshape(1,8,8)\n",
    "print(w_sample_row)\n",
    "np.shape(w_sample_row)\n",
    "\n",
    "#?????????????Q6:\n",
    "#create a random matrix\n",
    "e = np.array(range(9)).reshape(1,3,3)  # Create an array filled with random values\n",
    "print(e)   \n",
    "mean_of_row_matrix=np.zeros((3,1))\n",
    "# mean along the axis = 0  \n",
    "mean_row= np.mean(e, axis =2)\n",
    "print(mean_row)\n",
    "#create a random vector\n",
    "v=np.random.random((3,2))\n",
    "\n",
    "#subtract_arr=v-mean_row\n",
    "\n",
    "\n",
    "\n",
    "#Q7:\n",
    "import math\n",
    "print(\"&&&&&&&&&&&&&&&&&&&&&&&&&&&&&&&&\")\n",
    "cartesian_coord=np.random.random((10,2))\n",
    "print(cartesian_coord)\n",
    "\n",
    "#calculate radius\n",
    "cartes_power=pow(cartesian_coord,2)\n",
    "radius_arr=np.ones((10,1),dtype=float)\n",
    "for i in range(len(radius_arr)):\n",
    "    radius_arr[i,0]=np.sqrt(cartes_power[i,0]+cartes_power[i,1])\n",
    "print(radius_arr)\n",
    "\n",
    "#calculate angle(in degrees)\n",
    "degree_arr=np.ones((10,1),dtype=float)\n",
    "for j in range(len(degree_arr)):\n",
    "    degree_arr[j,0]=np.degrees(math.atan(cartesian_coord[j,1]/cartesian_coord[j,0]))\n",
    "\n",
    "print(degree_arr)\n",
    "\n",
    "#polar coordinate array\n",
    "print(\"*******************************\")\n",
    "#polar_coord=cartesian_coord\n",
    "polar_coord=np.array((radius_arr,degree_arr)).reshape(1,10,2)\n",
    "print(polar_coord)\n",
    "print(\"*******************************\")\n",
    "\n",
    "#Q8: Understand the solution better\n",
    "\n",
    "import numpy as np\n",
    "a= np.random.random((100,2))\n",
    "x,y = np.atleast_2d(a[:,0], a[:,1])\n",
    "d = np.sqrt( (x-x.T)**2 + (y-y.T)**2)\n",
    "print(d)        \n"
   ]
  },
  {
   "cell_type": "code",
   "execution_count": 43,
   "metadata": {},
   "outputs": [
    {
     "name": "stdout",
     "output_type": "stream",
     "text": [
      "           dt  AverageTemperature  AverageTemperatureUncertainty     City  \\\n",
      "0  1849-01-01              26.704                          1.435  Abidjan   \n",
      "1  1849-02-01              27.434                          1.362  Abidjan   \n",
      "2  1849-03-01              28.101                          1.612  Abidjan   \n",
      "3  1849-04-01              26.140                          1.387  Abidjan   \n",
      "4  1849-05-01              25.427                          1.200  Abidjan   \n",
      "\n",
      "         Country Latitude Longitude  \n",
      "0  Côte D'Ivoire    5.63N     3.23W  \n",
      "1  Côte D'Ivoire    5.63N     3.23W  \n",
      "2  Côte D'Ivoire    5.63N     3.23W  \n",
      "3  Côte D'Ivoire    5.63N     3.23W  \n",
      "4  Côte D'Ivoire    5.63N     3.23W  \n",
      "Index(['dt', 'AverageTemperature', 'AverageTemperatureUncertainty', 'City',\n",
      "       'Country', 'Latitude', 'Longitude'],\n",
      "      dtype='object')\n",
      "%%%%%%%%%%%%%%%%%%%%%%%%%%%%%%%%%%%%%%%%%%%%%%%%%%%%\n",
      "239177\n",
      "           dt  AverageTemperature  AverageTemperatureUncertainty     City  \\\n",
      "0  1849-01-01              26.704                          1.435  Abidjan   \n",
      "1  1849-02-01              27.434                          1.362  Abidjan   \n",
      "2  1849-03-01              28.101                          1.612  Abidjan   \n",
      "3  1849-04-01              26.140                          1.387  Abidjan   \n",
      "4  1849-05-01              25.427                          1.200  Abidjan   \n",
      "\n",
      "         Country Latitude Longitude  \n",
      "0  Côte D'Ivoire    5.63N     3.23W  \n",
      "1  Côte D'Ivoire    5.63N     3.23W  \n",
      "2  Côte D'Ivoire    5.63N     3.23W  \n",
      "3  Côte D'Ivoire    5.63N     3.23W  \n",
      "4  Côte D'Ivoire    5.63N     3.23W  \n",
      "*****************************************************\n",
      "        AverageTemperature     City\n",
      "0                   26.704  Abidjan\n",
      "1                   27.434  Abidjan\n",
      "2                   28.101  Abidjan\n",
      "3                   26.140  Abidjan\n",
      "4                   25.427  Abidjan\n",
      "...                    ...      ...\n",
      "239172              18.979     Xian\n",
      "239173              23.522     Xian\n",
      "239174              25.251     Xian\n",
      "239175              24.528     Xian\n",
      "239176                 NaN     Xian\n",
      "\n",
      "[239177 rows x 2 columns]\n",
      "&&&&&&&&&&&&&&&&&&&&&&&&&&&&&&&&&&&&&&&&&&&&&&&&&&&&&\n",
      "@@@@@@@@@@@@@@@@@@@@@@@@@@@@@@@@@@@@@@@@@@@@@@@@@@@@@\n",
      "City\n",
      "Umm Durman          29.081291\n",
      "Madras              28.417858\n",
      "Jiddah              27.692066\n",
      "Ho Chi Minh City    27.193984\n",
      "Bangkok             27.164733\n",
      "                      ...    \n",
      "Changchun            4.923798\n",
      "Montreal             4.445014\n",
      "Moscow               3.999711\n",
      "Saint Petersburg     3.918045\n",
      "Harbin               3.625744\n",
      "Name: AverageTemperature, Length: 100, dtype: float64\n",
      "^^^^^^^^^^^^^^^^^^^^^^^^^^^^^^^^^^^^^^^^^^^^^^^^^^^^^^^^\n",
      "25.951\n"
     ]
    }
   ],
   "source": [
    "#Exercise 7\n",
    "\n",
    "#Q1:Import GlobalLandTemperaturesByMajorCity.csv\n",
    "import os\n",
    "import numpy as np\n",
    "import pandas as pd\n",
    "data = './SpatialPython2020/Data/non-spatial/GlobalLandTemperatures/GlobalLandTemperaturesByMajorCity.csv'\n",
    "df = pd.read_csv(data, sep=',')\n",
    "df\n",
    "\n",
    "#Q2:Look at the first five entries\n",
    "l=df[:5]\n",
    "print(l)\n",
    "\n",
    "#Q3:Print the name of all the columns\n",
    "print(df.columns )\n",
    "print(\"%%%%%%%%%%%%%%%%%%%%%%%%%%%%%%%%%%%%%%%%%%%%%%%%%%%%\")\n",
    "\n",
    "#Q4:What is the number of observations in the dataset?\n",
    "print(len(df))\n",
    "\n",
    "\n",
    "#Q5:Display a summary of the basic information about this DataFrame and its data\n",
    "print(df.head())              # show data head\n",
    "df.tail()\n",
    "df['Country'].value_counts()  # Count number of rows with each unique value of variable\n",
    "df['City'].value_counts()\n",
    "df['AverageTemperature'].mean()\n",
    "df['AverageTemperature'].median()\n",
    "\n",
    "\n",
    "#Q6:Select just the 'AverageTemperature' and 'City' columns from the DataFrame\n",
    "\n",
    "print(\"*****************************************************\")\n",
    "cols = [1,3]\n",
    "df_new = df[df.columns[cols]]\n",
    "print(df_new)\n",
    "\n",
    "#Q7:Count the number of cities in the dataset\n",
    "print(\"&&&&&&&&&&&&&&&&&&&&&&&&&&&&&&&&&&&&&&&&&&&&&&&&&&&&&\")\n",
    "df['City'].value_counts()\n",
    "\n",
    "#?Q8:Calculate the mean temperature for each city over all years. Sort the values in the 'AverageTemperature' - in decending order\n",
    "print(\"@@@@@@@@@@@@@@@@@@@@@@@@@@@@@@@@@@@@@@@@@@@@@@@@@@@@@\")\n",
    "df_city_temp=df.groupby(['City'])['AverageTemperature'].mean().sort_values(ascending=False)\n",
    "print(df_city_temp)\n",
    "\n",
    "\n",
    "#Q9:Calculate the maximal AverageTemperature in european cities between 1990 and 2013\n",
    "print(\"^^^^^^^^^^^^^^^^^^^^^^^^^^^^^^^^^^^^^^^^^^^^^^^^^^^^^^^^\")\n",
    "df_europe_range = df.loc[(df['Country'] == 'Germany') |  \n",
    "                (df['Country'] == 'Belgium') | (df['Country'] =='Bulgaria') | (df['Country'] == 'Croatia')|\n",
    "                (df['Country'] == 'Cyprus') |(df['Country'] == 'Czech Republic') | (df['Country'] == 'Denmark') | (df['Country']=='Estonia') | (df['Country']=='Finland') |\n",
    "                (df['Country'] == 'France') | (df['Country'] == 'Austria') | (df['Country'] == 'Greece') | (df['Country']=='Hungary') | (df['Country']=='Ireland') | (df['Country']=='Italy') |\n",
    "                (df['Country'] == 'Latvia') | (df['Country'] == 'Lithuania') | (df['Country'] == 'Luxembourg') | (df['Country']=='Malta') | (df['Country']=='Netherlands') |\n",
    "                (df['Country'] == 'Poland') | (df['Country'] == 'Portugal') | (df['Country'] == 'Romania ') | (df['Country']=='Slovakia') | (df['Country']=='Slovenia') | (df['Country']=='Spain') |\n",
    "                (df['Country'] == 'Sweden') & (df['dt'] >= '1990-01-01') & (df['dt'] < '2014-01-01')] \n",
    "           \n",
    "\n",
    "#print(df_europe_range.head())    \n",
    "#type(df_europe_range)\n",
    "\n",
    "max_temp_europ=df_europe_range['AverageTemperature'].max()\n",
    "type(max_temp_europ)\n",
    "print(max_temp_europ)\n"
   ]
  },
  {
   "cell_type": "code",
   "execution_count": 60,
   "metadata": {},
   "outputs": [
    {
     "data": {
      "text/html": [
       "<div>\n",
       "<style scoped>\n",
       "    .dataframe tbody tr th:only-of-type {\n",
       "        vertical-align: middle;\n",
       "    }\n",
       "\n",
       "    .dataframe tbody tr th {\n",
       "        vertical-align: top;\n",
       "    }\n",
       "\n",
       "    .dataframe thead th {\n",
       "        text-align: right;\n",
       "    }\n",
       "</style>\n",
       "<table border=\"1\" class=\"dataframe\">\n",
       "  <thead>\n",
       "    <tr style=\"text-align: right;\">\n",
       "      <th></th>\n",
       "      <th>dt</th>\n",
       "      <th>AverageTemperature</th>\n",
       "      <th>AverageTemperatureUncertainty</th>\n",
       "      <th>City</th>\n",
       "      <th>Country</th>\n",
       "      <th>Latitude</th>\n",
       "      <th>Longitude</th>\n",
       "    </tr>\n",
       "  </thead>\n",
       "  <tbody>\n",
       "    <tr>\n",
       "      <th>27457</th>\n",
       "      <td>1990-04-01</td>\n",
       "      <td>9.017</td>\n",
       "      <td>0.145</td>\n",
       "      <td>Berlin</td>\n",
       "      <td>Germany</td>\n",
       "      <td>52.24N</td>\n",
       "      <td>13.14E</td>\n",
       "    </tr>\n",
       "    <tr>\n",
       "      <th>27458</th>\n",
       "      <td>1990-05-01</td>\n",
       "      <td>15.142</td>\n",
       "      <td>0.139</td>\n",
       "      <td>Berlin</td>\n",
       "      <td>Germany</td>\n",
       "      <td>52.24N</td>\n",
       "      <td>13.14E</td>\n",
       "    </tr>\n",
       "    <tr>\n",
       "      <th>27459</th>\n",
       "      <td>1990-06-01</td>\n",
       "      <td>17.025</td>\n",
       "      <td>0.306</td>\n",
       "      <td>Berlin</td>\n",
       "      <td>Germany</td>\n",
       "      <td>52.24N</td>\n",
       "      <td>13.14E</td>\n",
       "    </tr>\n",
       "  </tbody>\n",
       "</table>\n",
       "</div>"
      ],
      "text/plain": [
       "               dt  AverageTemperature  AverageTemperatureUncertainty    City  \\\n",
       "27457  1990-04-01               9.017                          0.145  Berlin   \n",
       "27458  1990-05-01              15.142                          0.139  Berlin   \n",
       "27459  1990-06-01              17.025                          0.306  Berlin   \n",
       "\n",
       "       Country Latitude Longitude  \n",
       "27457  Germany   52.24N    13.14E  \n",
       "27458  Germany   52.24N    13.14E  \n",
       "27459  Germany   52.24N    13.14E  "
      ]
     },
     "execution_count": 60,
     "metadata": {},
     "output_type": "execute_result"
    }
   ],
   "source": [
    "#Exercise 8\n",
    "import matplotlib.pyplot as plt\n",
    "import numpy as np\n",
    "import pandas as pd\n",
    "import os\n",
    "import seaborn as sns\n",
    "global_temp=pd.read_csv('./SpatialPython2020/Data/non-spatial/GlobalLandTemperatures/GlobalLandTemperaturesByMajorCity.csv')\n",
    "\n",
    "\n",
    "# ????Q1:Calculate the mean temperature (all cities) for each year plot the data\n",
    "# Average temp by year\n",
    "#global_temp['dt'] = pd.to_datetime(global_temp['dt'])\n",
    "\n",
    "# Set the datetime column as the index\n",
    "#global_temp.index = global_temp['dt'] \n",
    "#global_temp=global_temp.groupby([global_temp.index.year])['AverageTemperature','AverageTemperatureUncertainty'].mean().reset_index()\n",
    "#print(global_temp)\n",
    "\n",
    "\n",
    "\n",
    "\n",
    "#Q2:Calculate the mean temperature of german cities for each year (between 1990 and 2013). \n",
    "#Create a plot with 4 graphs each showing the mean temperature for one season (spring, summer, autumn, winter) per year\n",
    "\n",
    "df_german_range = global_temp.loc[(global_temp['Country'] == 'Germany') & (global_temp['dt'] >= '1990-01-01') & (global_temp['dt'] < '1991-01-01')] #& (df['dt'] < '2014-01-01')\n",
    "df_german_range.head() \n",
    "#Winter\n",
    "df_german_winter = global_temp.loc[(global_temp['Country'] == 'Germany') & (global_temp['dt'] >= '1990-01-01') & (global_temp['dt'] < '1990-03-21')]\n",
    "df_german_winter.head()\n",
    "#Spring\n",
    "df_german_spring = global_temp.loc[(global_temp['Country'] == 'Germany') & (global_temp['dt'] >= '1990-03-21') & (global_temp['dt'] < '1990-06-21')]\n",
    "df_german_spring.head()\n",
    "#sns.set(style=\"darkgrid\")\n",
    "#plt.figure(figsize=(16, 10))\n",
    "#sns.lineplot(x='dt', y=\"AverageTemperature\", hue='City' ,data=df_german_range, palette=\"coolwarm\")\n",
    "\n"
   ]
  }
 ],
 "metadata": {
  "kernelspec": {
   "display_name": "Python 3",
   "language": "python",
   "name": "python3"
  },
  "language_info": {
   "codemirror_mode": {
    "name": "ipython",
    "version": 3
   },
   "file_extension": ".py",
   "mimetype": "text/x-python",
   "name": "python",
   "nbconvert_exporter": "python",
   "pygments_lexer": "ipython3",
   "version": "3.8.3"
  }
 },
 "nbformat": 4,
 "nbformat_minor": 4
}
