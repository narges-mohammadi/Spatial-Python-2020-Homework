{
 "cells": [
  {
   "cell_type": "code",
   "execution_count": 1,
   "metadata": {},
   "outputs": [],
   "source": [
    "import os, sys\n",
    "import glob\n",
    "import shutil"
   ]
  },
  {
   "cell_type": "code",
   "execution_count": 2,
   "metadata": {},
   "outputs": [
    {
     "data": {
      "text/plain": [
       "'/home/suny/EAGLE-Master/second-semester/spatial-python/Spatial-Python-2020-Homework'"
      ]
     },
     "execution_count": 2,
     "metadata": {},
     "output_type": "execute_result"
    }
   ],
   "source": [
    "# Return a string representing the current working directory.\n",
    "os.getcwd()"
   ]
  },
  {
   "cell_type": "code",
   "execution_count": 5,
   "metadata": {},
   "outputs": [],
   "source": [
    "#Task 1\n",
    "\n",
    "# Set your main directory to the \"os_exercise_filefolder\" and produce an output here (below)\n",
    "#,where every single file in that subfolder is listed.\n",
    "os.chdir('/home/suny/EAGLE-Master/second-semester/spatial-python/Spatial-Python-2020-Homework/os_exercise_filefolder/')"
   ]
  },
  {
   "cell_type": "code",
   "execution_count": 4,
   "metadata": {},
   "outputs": [
    {
     "data": {
      "text/plain": [
       "'/home/suny/EAGLE-Master/second-semester/spatial-python/Spatial-Python-2020-Homework/os_exercise_filefolder'"
      ]
     },
     "execution_count": 4,
     "metadata": {},
     "output_type": "execute_result"
    }
   ],
   "source": [
    "os.getcwd()"
   ]
  },
  {
   "cell_type": "code",
   "execution_count": 5,
   "metadata": {},
   "outputs": [
    {
     "name": "stdout",
     "output_type": "stream",
     "text": [
      "['COCO_val2014_000000001153.jpg', 'COCO_val2014_000000000939.jpg', 'COCO_val2014_000000454161.jpg', 'COCO_val2014_000000002157.jpg', 'higher1000_new', 'COCO_val2014_000000000675.jpg', 'higher2000_new', 'COCO_val2014_000000001270.jpg', 'COCO_val2014_000000000711.jpg', 'higher2000', 'COCO_val2014_000000001290.jpg', 'COCO_val2014_000000000987.jpg', 'COCO_val2014_000000001347.jpg', 'COCO_val2014_000000001292.jpg', 'COCO_val2014_000000001667.jpg', 'COCO_val2014_000000001573.jpg', 'under1000', 'COCO_val2014_000000000486.jpg', 'COCO_val2014_000000001180.jpg', 'COCO_val2014_000000001757.jpg', 'COCO_val2014_000000001089.jpg', 'COCO_val2014_000000000715.jpg', 'under1000_new', 'higher1000', 'Readme.txt']\n"
     ]
    }
   ],
   "source": [
    "#Task 2:\n",
    "import os\n",
    "import glob\n",
    "import getpass#for entering password for sudo commands of linux in python \n",
    "# Sort the images by number. Create three subfolders - and group:\n",
    "#images with a number < 1000 go into the first subfolder,\n",
    "#images with a number between 1000 and 2000 go into the second folder, and\n",
    "#images with a number higher than 2000 go into the third folder.\n",
    "\n",
    "\n",
    "print(os.listdir())#Return a list containing the names of the entries in the input directory (inside paranthesis)\n",
    "new_dir ='/home/suny/EAGLE-Master/second-semester/spatial-python/Spatial-Python-2020-Homework/os_exercise_filefolder/'\n",
    "\n",
    "# Find the files using globe module\n",
    "\n",
    " #images with a number < 1000\n",
    "#glob.glob('./COCO_val2014_000000000???.jpg')\n",
    "under1000s = glob.glob('COCO_val2014_000000000???.jpg')\n",
    "for filename in under1000s:\n",
    "    #print(os.path.join(new_dir,filename))\n",
    "    target_path='/home/suny/EAGLE-Master/second-semester/spatial-python/Spatial-Python-2020-Homework/os_exercise_filefolder/under1000_new'\n",
    "    shutil.copy(os.path.join(new_dir,filename),target_path)\n",
    "\n",
    "\n",
    " #images with a number > 1000\n",
    "#glob.glob('./COCO_val2014_000000001???.jpg')\n",
    "higher1000s = glob.glob('COCO_val2014_000000001???.jpg')\n",
    "for filename in higher1000s:\n",
    "    #print(os.path.join(new_dir,filename))\n",
    "    target_path='/home/suny/EAGLE-Master/second-semester/spatial-python/Spatial-Python-2020-Homework/os_exercise_filefolder/higher1000_new'\n",
    "    shutil.copy(os.path.join(new_dir,filename),target_path)\n",
    "\n",
    "\n",
    " #images with a number > 2000\n",
    "#glob.glob('./COCO_val2014_000000002???.jpg')\n",
    "higher2000s = glob.glob('COCO_val2014_000000002???.jpg')\n",
    "for filename in higher2000s:\n",
    "    #print(os.path.join(new_dir,filename))\n",
    "    target_path='/home/suny/EAGLE-Master/second-semester/spatial-python/Spatial-Python-2020-Homework/os_exercise_filefolder/higher2000_new'\n",
    "    shutil.copy(os.path.join(new_dir,filename),target_path)\n",
    "\n",
    "higher2000s = glob.glob('COCO_val2014_0000004?????.jpg')\n",
    "for filename in higher2000s:\n",
    "    #print(os.path.join(new_dir,filename))\n",
    "    target_path='/home/suny/EAGLE-Master/second-semester/spatial-python/Spatial-Python-2020-Homework/os_exercise_filefolder/higher2000_new'\n",
    "    shutil.copy(os.path.join(new_dir,filename),target_path)\n",
    "    \n",
    "    \n",
    "# Create the directory  \n",
    "\n",
    "#if not os.path.exists(first_dir):\n",
    "#    oldmask = os.umask(0o002)\n",
    "#    os.system('os.mkdir(first_dir, 0o0777)\n",
    "#    os.umask(oldmask)\n",
    "\n",
    "#password=getpass.getpass()\n",
    "#command=\"sudo mv -S subfolder_under_1000\"\n",
    "#os.system('echo %s | %s' % ( password, command ))  \n",
    "\n"
   ]
  },
  {
   "cell_type": "code",
   "execution_count": 3,
   "metadata": {},
   "outputs": [
    {
     "name": "stdout",
     "output_type": "stream",
     "text": [
      "COCO_val2014_000000000987.jpg_renamed\n",
      "COCO_val2014_000000000675.jpg_renamed\n",
      "COCO_val2014_000000000486.jpg_renamed\n",
      "COCO_val2014_000000000939.jpg_renamed\n",
      "COCO_val2014_000000000711.jpg_renamed\n",
      "COCO_val2014_000000000715.jpg_renamed\n",
      "COCO_val2014_000000001347_renamed\n",
      "COCO_val2014_000000001573_renamed\n",
      "COCO_val2014_000000001292_renamed\n",
      "COCO_val2014_000000001667_renamed\n",
      "COCO_val2014_000000001089_renamed\n",
      "COCO_val2014_000000001757_renamed\n",
      "COCO_val2014_000000001153_renamed\n",
      "COCO_val2014_000000001180_renamed\n",
      "COCO_val2014_000000001290_renamed\n",
      "COCO_val2014_000000001270_renamed\n",
      "COCO_val2014_000000002157_renamed\n",
      "COCO_val2014_000000454161_renamed\n"
     ]
    }
   ],
   "source": [
    "# Task 3 :\n",
    "\n",
    "# Walk into every subfolder \n",
    "# and change the filename of every .jpg - file automatically by adding \"_renamed\" to the filename.\n",
    "\n",
    "\n",
    "\n",
    "# under1000:\n",
    "os.chdir('/home/suny/EAGLE-Master/second-semester/spatial-python/Spatial-Python-2020-Homework/os_exercise_filefolder/under1000_new')\n",
    "list = glob.glob(\"*.jpg\")\n",
    "#print(list)\n",
    "for item in list:\n",
    "    print(os.path.splitext(item)[0])\n",
    "    #os.rename(item , item + '_renamed' + '.jpg' )\n",
    "    \n",
    "# higher1000:\n",
    "os.chdir('/home/suny/EAGLE-Master/second-semester/spatial-python/Spatial-Python-2020-Homework/os_exercise_filefolder/higher1000_new')\n",
    "list = glob.glob(\"*.jpg\")\n",
    "\n",
    "for item in list:\n",
    "    print(os.path.splitext(item)[0])\n",
    "    #os.rename(item , os.path.splitext(item)[0]+'_renamed'+'.jpg')\n",
    "\n",
    "# higher2000:\n",
    "os.chdir('/home/suny/EAGLE-Master/second-semester/spatial-python/Spatial-Python-2020-Homework/os_exercise_filefolder/higher2000_new')\n",
    "list = glob.glob(\"*.jpg\")\n",
    "\n",
    "for item in list:\n",
    "    print(os.path.splitext(item)[0])\n",
    "    #os.rename(item , os.path.splitext(item)[0]+'_renamed'+'.jpg')\n",
    "    "
   ]
  },
  {
   "cell_type": "code",
   "execution_count": 7,
   "metadata": {},
   "outputs": [
    {
     "name": "stdout",
     "output_type": "stream",
     "text": [
      "['COCO_val2014_000000001153.jpg', 'COCO_val2014_000000000939.jpg', 'COCO_val2014_000000454161.jpg', 'COCO_val2014_000000002157.jpg', 'higher1000_new', 'COCO_val2014_000000000675.jpg', 'higher2000_new', 'COCO_val2014_000000001270.jpg', 'COCO_val2014_000000000711.jpg', 'higher2000', 'higher2000_3', 'COCO_val2014_000000001290.jpg', 'COCO_val2014_000000000987.jpg', 'COCO_val2014_000000001347.jpg', 'higher1000_3', 'COCO_val2014_000000001292.jpg', 'COCO_val2014_000000001667.jpg', 'COCO_val2014_000000001573.jpg', 'under1000', 'COCO_val2014_000000000486.jpg', 'COCO_val2014_000000001180.jpg', 'COCO_val2014_000000001757.jpg', 'COCO_val2014_000000001089.jpg', 'COCO_val2014_000000000715.jpg', 'under1000_3', 'under1000_new', 'higher1000', 'Readme.txt']\n"
     ]
    }
   ],
   "source": [
    "import os\n",
    "import glob\n",
    "\n",
    "# Sort the images by number. Create three subfolders - and group:\n",
    "#images with a number < 1000 go into the first subfolder,\n",
    "#images with a number between 1000 and 2000 go into the second folder, and\n",
    "#images with a number higher than 2000 go into the third folder.\n",
    "\n",
    "\n",
    "print(os.listdir())#Return a list containing the names of the entries in the input directory (inside paranthesis)\n",
    "new_dir ='/home/suny/EAGLE-Master/second-semester/spatial-python/Spatial-Python-2020-Homework/os_exercise_filefolder/'\n",
    "\n",
    "# Find the files using globe module\n",
    "\n",
    " #images with a number < 1000\n",
    "#glob.glob('./COCO_val2014_000000000???.jpg')\n",
    "under1000s = glob.glob('COCO_val2014_000000000???.jpg')\n",
    "for filename in under1000s:\n",
    "    #print(os.path.join(new_dir,filename))\n",
    "    target_path='/home/suny/EAGLE-Master/second-semester/spatial-python/Spatial-Python-2020-Homework/os_exercise_filefolder/under1000_3'\n",
    "    shutil.copy(os.path.join(new_dir,filename),target_path)\n",
    "\n",
    "\n",
    " #images with a number > 1000\n",
    "#glob.glob('./COCO_val2014_000000001???.jpg')\n",
    "higher1000s = glob.glob('COCO_val2014_000000001???.jpg')\n",
    "for filename in higher1000s:\n",
    "    #print(os.path.join(new_dir,filename))\n",
    "    target_path='/home/suny/EAGLE-Master/second-semester/spatial-python/Spatial-Python-2020-Homework/os_exercise_filefolder/higher1000_3'\n",
    "    shutil.copy(os.path.join(new_dir,filename),target_path)\n",
    "\n",
    "\n",
    " #images with a number > 2000\n",
    "#glob.glob('./COCO_val2014_000000002???.jpg')\n",
    "higher2000s = glob.glob('COCO_val2014_000000002???.jpg')\n",
    "for filename in higher2000s:\n",
    "    #print(os.path.join(new_dir,filename))\n",
    "    target_path='/home/suny/EAGLE-Master/second-semester/spatial-python/Spatial-Python-2020-Homework/os_exercise_filefolder/higher2000_3'\n",
    "    shutil.copy(os.path.join(new_dir,filename),target_path)\n",
    "\n",
    "higher2000s = glob.glob('COCO_val2014_0000004?????.jpg')\n",
    "for filename in higher2000s:\n",
    "    #print(os.path.join(new_dir,filename))\n",
    "    target_path='/home/suny/EAGLE-Master/second-semester/spatial-python/Spatial-Python-2020-Homework/os_exercise_filefolder/higher2000_3'\n",
    "    shutil.copy(os.path.join(new_dir,filename),target_path)\n",
    "   "
   ]
  },
  {
   "cell_type": "code",
   "execution_count": 17,
   "metadata": {},
   "outputs": [
    {
     "name": "stdout",
     "output_type": "stream",
     "text": [
      "Found directory: /home/suny/EAGLE-Master/second-semester/spatial-python/Spatial-Python-2020-Homework/os_exercise_filefolder/higher1000_new\n",
      "\tCOCO_val2014_000000001347_renamed.jpg\n",
      "\tCOCO_val2014_000000001573_renamed.jpg\n",
      "\tCOCO_val2014_000000001292_renamed.jpg\n",
      "\tCOCO_val2014_000000001667_renamed.jpg\n",
      "\tCOCO_val2014_000000001089_renamed.jpg\n",
      "\tCOCO_val2014_000000001757_renamed.jpg\n",
      "\tCOCO_val2014_000000001153_renamed.jpg\n",
      "\tCOCO_val2014_000000001180_renamed.jpg\n",
      "\tCOCO_val2014_000000001290_renamed.jpg\n",
      "\tCOCO_val2014_000000001270_renamed.jpg\n",
      "Found directory: /home/suny/EAGLE-Master/second-semester/spatial-python/Spatial-Python-2020-Homework/os_exercise_filefolder/higher2000_new\n",
      "\tCOCO_val2014_000000002157_renamed.jpg\n",
      "\tCOCO_val2014_000000454161_renamed.jpg\n",
      "Found directory: /home/suny/EAGLE-Master/second-semester/spatial-python/Spatial-Python-2020-Homework/os_exercise_filefolder/higher2000\n",
      "\tCOCO_val2014_000000002157_renamed.jpg\n",
      "\tCOCO_val2014_000000454161_renamed.jpg\n",
      "Found directory: /home/suny/EAGLE-Master/second-semester/spatial-python/Spatial-Python-2020-Homework/os_exercise_filefolder/higher2000_3\n",
      "\tCOCO_val2014_000000454161.jpg\n",
      "\tCOCO_val2014_000000002157.jpg\n",
      "Found directory: /home/suny/EAGLE-Master/second-semester/spatial-python/Spatial-Python-2020-Homework/os_exercise_filefolder/higher1000_3\n",
      "\tCOCO_val2014_000000001153.jpg\n",
      "\tCOCO_val2014_000000001270.jpg\n",
      "\tCOCO_val2014_000000001290.jpg\n",
      "\tCOCO_val2014_000000001347.jpg\n",
      "\tCOCO_val2014_000000001292.jpg\n",
      "\tCOCO_val2014_000000001667.jpg\n",
      "\tCOCO_val2014_000000001573.jpg\n",
      "\tCOCO_val2014_000000001180.jpg\n",
      "\tCOCO_val2014_000000001757.jpg\n",
      "\tCOCO_val2014_000000001089.jpg\n",
      "Found directory: /home/suny/EAGLE-Master/second-semester/spatial-python/Spatial-Python-2020-Homework/os_exercise_filefolder/under1000\n",
      "\tCOCO_val2014_000000000987_renamed.jpg\n",
      "\tCOCO_val2014_000000000486_renamed.jpg\n",
      "\tCOCO_val2014_000000000715_renamed.jpg\n",
      "\tCOCO_val2014_000000000711_renamed.jpg\n",
      "\tCOCO_val2014_000000000675_renamed.jpg\n",
      "\tCOCO_val2014_000000000939_renamed.jpg\n",
      "Found directory: /home/suny/EAGLE-Master/second-semester/spatial-python/Spatial-Python-2020-Homework/os_exercise_filefolder/under1000_3\n",
      "\tCOCO_val2014_000000000939.jpg\n",
      "\tCOCO_val2014_000000000675.jpg\n",
      "\tCOCO_val2014_000000000711.jpg\n",
      "\tCOCO_val2014_000000000987.jpg\n",
      "\tCOCO_val2014_000000000486.jpg\n",
      "\tCOCO_val2014_000000000715.jpg\n",
      "Found directory: /home/suny/EAGLE-Master/second-semester/spatial-python/Spatial-Python-2020-Homework/os_exercise_filefolder/under1000_new\n",
      "\tCOCO_val2014_000000000987.jpg_renamed.jpg\n",
      "\tCOCO_val2014_000000000675.jpg_renamed.jpg\n",
      "\tCOCO_val2014_000000000486.jpg_renamed.jpg\n",
      "\tCOCO_val2014_000000000939.jpg_renamed.jpg\n",
      "\tCOCO_val2014_000000000711.jpg_renamed.jpg\n",
      "\tCOCO_val2014_000000000715.jpg_renamed.jpg\n",
      "Found directory: /home/suny/EAGLE-Master/second-semester/spatial-python/Spatial-Python-2020-Homework/os_exercise_filefolder/higher1000\n",
      "\tCOCO_val2014_000000001347_renamed.jpg\n",
      "\tCOCO_val2014_000000001573_renamed.jpg\n",
      "\tCOCO_val2014_000000001292_renamed.jpg\n",
      "\tCOCO_val2014_000000001667_renamed.jpg\n",
      "\tCOCO_val2014_000000001089_renamed.jpg\n",
      "\tCOCO_val2014_000000001757_renamed.jpg\n",
      "\tCOCO_val2014_000000001153_renamed.jpg\n",
      "\tCOCO_val2014_000000001180_renamed.jpg\n",
      "\tCOCO_val2014_000000001290_renamed.jpg\n",
      "\tCOCO_val2014_000000001270_renamed.jpg\n",
      "Found directory: /home/suny/EAGLE-Master/second-semester/spatial-python/Spatial-Python-2020-Homework/os_exercise_filefolder/\n",
      "\tCOCO_val2014_000000001153.jpg\n",
      "\tCOCO_val2014_000000000939.jpg\n",
      "\tCOCO_val2014_000000454161.jpg\n",
      "\tCOCO_val2014_000000002157.jpg\n",
      "\tCOCO_val2014_000000000675.jpg\n",
      "\tCOCO_val2014_000000001270.jpg\n",
      "\tCOCO_val2014_000000000711.jpg\n",
      "\tCOCO_val2014_000000001290.jpg\n",
      "\tCOCO_val2014_000000000987.jpg\n",
      "\tCOCO_val2014_000000001347.jpg\n",
      "\tCOCO_val2014_000000001292.jpg\n",
      "\tCOCO_val2014_000000001667.jpg\n",
      "\tCOCO_val2014_000000001573.jpg\n",
      "\tCOCO_val2014_000000000486.jpg\n",
      "\tCOCO_val2014_000000001180.jpg\n",
      "\tCOCO_val2014_000000001757.jpg\n",
      "\tCOCO_val2014_000000001089.jpg\n",
      "\tCOCO_val2014_000000000715.jpg\n",
      "\tReadme.txt\n"
     ]
    }
   ],
   "source": [
    "#Go through directories with os.walk()\n",
    "import os\n",
    " \n",
    "rootDir = '/home/suny/EAGLE-Master/second-semester/spatial-python/Spatial-Python-2020-Homework/os_exercise_filefolder/'\n",
    "for dirName, subdirList, fileList in os.walk(rootDir, topdown=False):\n",
    "    print('Found directory: %s' % dirName)\n",
    "    for fname in fileList:\n",
    "        print('\\t%s' % fname)\n"
   ]
  },
  {
   "cell_type": "code",
   "execution_count": 5,
   "metadata": {},
   "outputs": [
    {
     "data": {
      "text/plain": [
       "0"
      ]
     },
     "execution_count": 5,
     "metadata": {},
     "output_type": "execute_result"
    }
   ],
   "source": [
    "import getpass\n",
    "import os\n",
    "#password = getpass.getpass()\n",
    "os.getcwd()\n",
    "os.chdir('/home/suny/EAGLE-Master/second-semester/spatial-python/Spatial-Python-2020-Homework/os_exercise_filefolder/')\n",
    "command = \"sudo -S mkdir -m777 New_folder\" #can be any command but don't forget -S as it enables input from stdin\n",
    "os.system('echo %s | %s' % (password, command))"
   ]
  }
 ],
 "metadata": {
  "kernelspec": {
   "display_name": "eagles-python",
   "language": "python",
   "name": "eagles-python"
  },
  "language_info": {
   "codemirror_mode": {
    "name": "ipython",
    "version": 3
   },
   "file_extension": ".py",
   "mimetype": "text/x-python",
   "name": "python",
   "nbconvert_exporter": "python",
   "pygments_lexer": "ipython3",
   "version": "3.8.3"
  }
 },
 "nbformat": 4,
 "nbformat_minor": 4
}
